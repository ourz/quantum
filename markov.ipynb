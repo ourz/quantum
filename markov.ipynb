{
 "cells": [
  {
   "cell_type": "code",
   "execution_count": 1,
   "metadata": {},
   "outputs": [],
   "source": [
    "from qiskit import *\n",
    "import numpy as np\n",
    "import matplotlib.pyplot as plt"
   ]
  },
  {
   "cell_type": "code",
   "execution_count": 2,
   "metadata": {},
   "outputs": [],
   "source": [
    "#define transition matrix of Markov chain\n",
    "P = np.array([[0.7, 0.3],[0.2, 0.8]])"
   ]
  },
  {
   "cell_type": "code",
   "execution_count": 3,
   "metadata": {},
   "outputs": [],
   "source": [
    "def rot(p):\n",
    "    return 2*np.arctan(np.sqrt(p/(1-p)))\n",
    "\n",
    "rotations = np.array(list(map(rot, P)))"
   ]
  },
  {
   "cell_type": "code",
   "execution_count": 4,
   "metadata": {},
   "outputs": [],
   "source": [
    "#one-step transistion of the Markov chain\n",
    "#qreg represents the state of the chain\n",
    "#anc = 1 if the chain jumps, and 0 otherwise\n",
    "def transition_gate(qc, qreg, anc, creg, rotations):\n",
    "    qc.x(qreg[0])\n",
    "    qc.cry(rotations[0][1], qreg[0], anc[0])\n",
    "    qc.x(qreg[0])\n",
    "    qc.cry(rotations[1][0], qreg[0], anc[0])\n",
    "    qc.cx(anc[0], qreg[0])\n",
    "    qc.reset(anc[0])\n",
    "    return qc"
   ]
  },
  {
   "cell_type": "code",
   "execution_count": 5,
   "metadata": {},
   "outputs": [],
   "source": [
    "def compare_distributions(counts, distr):\n",
    "    bins = list(counts.keys())\n",
    "    bins.sort()\n",
    "    vals = np.array([counts[b] for b in bins])\n",
    "    p_hat = vals / sum(vals)\n",
    "    x = np.arange(len(bins))  # the label locations\n",
    "    width = 0.35\n",
    "    fig, ax = plt.subplots()\n",
    "    ax.bar(x - width/2, distr, width, label='true probabilities')\n",
    "    ax.bar(x + width/2, p_hat, width, label='estimate')\n",
    "    ax.set_xticks(x)\n",
    "    ax.set_xticklabels(bins)\n",
    "    ax.legend()\n",
    "    fig.tight_layout()\n",
    "    plt.show()"
   ]
  },
  {
   "cell_type": "code",
   "execution_count": 6,
   "metadata": {},
   "outputs": [
    {
     "data": {
      "image/png": "[encoded data removed]",
      "text/plain": [
       "<Figure size 863.509x204.68 with 1 Axes>"
      ]
     },
     "execution_count": 6,
     "metadata": {},
     "output_type": "execute_result"
    }
   ],
   "source": [
    "#setup quantum circuit\n",
    "qreg = QuantumRegister(1)\n",
    "anc = QuantumRegister(1, 'ancilla')\n",
    "creg = ClassicalRegister(1)\n",
    "qc = QuantumCircuit(qreg, anc, creg)\n",
    "\n",
    "#set initial value (0 or 1)\n",
    "init = 0\n",
    "if init == 1 : qc.x(qreg[0])\n",
    "    \n",
    "#choose number of steps to simulate\n",
    "steps = 2\n",
    "\n",
    "#apply simulation\n",
    "for j in range(steps):\n",
    "    qc = transition_gate(qc, qreg, anc, creg, rotations)\n",
    "\n",
    "#measure result\n",
    "qc.measure(qreg, creg)\n",
    "\n",
    "#draw\n",
    "qc.draw('mpl')"
   ]
  },
  {
   "cell_type": "code",
   "execution_count": 7,
   "metadata": {},
   "outputs": [
    {
     "data": {
      "image/png": "[encoded data removed]",
      "text/plain": [
       "<Figure size 432x288 with 1 Axes>"
      ]
     },
     "metadata": {
      "needs_background": "light"
     },
     "output_type": "display_data"
    }
   ],
   "source": [
    "#run quantum cirquit and plot frequency comparison\n",
    "backend = BasicAer.get_backend('qasm_simulator')\n",
    "nsim = 2**16\n",
    "res = execute(qc, backend, shots=nsim).result()\n",
    "compare_distributions(res.get_counts(), np.linalg.matrix_power(P,steps)[init])"
   ]
  }
 ],
 "metadata": {
  "kernelspec": {
   "display_name": "Python 3",
   "language": "python",
   "name": "python3"
  },
  "language_info": {
   "codemirror_mode": {
    "name": "ipython",
    "version": 3
   },
   "file_extension": ".py",
   "mimetype": "text/x-python",
   "name": "python",
   "nbconvert_exporter": "python",
   "pygments_lexer": "ipython3",
   "version": "3.8.2"
  }
 },
 "nbformat": 4,
 "nbformat_minor": 4
}
