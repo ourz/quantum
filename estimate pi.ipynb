{
 "cells": [
  {
   "cell_type": "code",
   "execution_count": 1,
   "metadata": {},
   "outputs": [],
   "source": [
    "# Estimates \\pi on a quantum circuit with n cubits. The algorithm iteratively searches for a solution\n",
    "# to the equation f(x) - x = 0, where f is a quantum circuit parameterized by one parameter. This \n",
    "# parameter represents an estimate of pi and is used instead of the actual value of pi in the inverse \n",
    "# quantum fourier transform . With x = \\pi, the equation f(x) = x is satisfied with equality. The error\n",
    "# of the estimate decreases with the number of cubits. The actual secant search is done classically.\n",
    "\n",
    "import operator\n",
    "from  qiskit import *\n",
    "from numpy import abs"
   ]
  },
  {
   "cell_type": "code",
   "execution_count": 2,
   "metadata": {},
   "outputs": [],
   "source": [
    "#initialization\n",
    "def initialize_qubits(qc, measurement_qubits, target_qubit):\n",
    "    qc.h(measurement_qubits)\n",
    "    qc.x(target_qubit)"
   ]
  },
  {
   "cell_type": "code",
   "execution_count": 3,
   "metadata": {},
   "outputs": [],
   "source": [
    "#improper qft inverse using an estimate of pi\n",
    "def apply_improper_iqft(qc, measurement_qubits, n):\n",
    "    def f(pi_est):\n",
    "        for x in measurement_qubits:\n",
    "            if x < (n-1)/2: qc.swap(x,n-1-x)\n",
    "\n",
    "        for target_qubit in reversed(measurement_qubits):\n",
    "            for control_qubit in reversed(range(target_qubit+1,n)):\n",
    "                k = target_qubit - control_qubit - 1\n",
    "                exponent = -2**(k)\n",
    "                qc.cp(2*pi_est*exponent, control_qubit, target_qubit)\n",
    "            qc.h(target_qubit)\n",
    "            qc.barrier()\n",
    "    return f"
   ]
  },
  {
   "cell_type": "code",
   "execution_count": 4,
   "metadata": {},
   "outputs": [],
   "source": [
    "def qpe_program(n, pi_est):\n",
    "    # Create a quantum circuit on n+1 qubits (n measurement, 1 target)\n",
    "    qc = QuantumCircuit(n+1, n)\n",
    "\n",
    "    # Initialize the qubits\n",
    "    initialize_qubits(qc, range(n), n)\n",
    "\n",
    "    # Apply the controlled unitary operators in sequence\n",
    "    for x in range(n):\n",
    "        exponent = 2**(n-x-1)\n",
    "        qc.cp(1*exponent, x, n)\n",
    "\n",
    "    qc.barrier()\n",
    "    # Apply the \"improper inverse quantum Fourier transform\"\n",
    "    apply_improper_iqft(qc, range(n), n)(pi_est)\n",
    "\n",
    "    # Measure all qubits\n",
    "    qc.measure(range(n), range(n))\n",
    "  \n",
    "    return qc"
   ]
  },
  {
   "cell_type": "code",
   "execution_count": 5,
   "metadata": {},
   "outputs": [],
   "source": [
    "#run the circuit and measure pi\n",
    "def measure_pi(n_qubits, qc, backend, n_shots):\n",
    "    counts = execute(qc, backend=backend, shots=n_shots).result().get_counts(qc)\n",
    "    \n",
    "    highest_probability_outcome = max(counts.items(), key=operator.itemgetter(1))[0][::-1]\n",
    "    return 2**(n_qubits-1) / int(highest_probability_outcome, 2)"
   ]
  },
  {
   "cell_type": "code",
   "execution_count": 6,
   "metadata": {},
   "outputs": [],
   "source": [
    "#implements secant search starting from two given guesses \n",
    "def estimate_pi(n_qubits, first_guess, second_guess, n_shots, backend, max_iter):\n",
    "    pi_est = first_guess\n",
    "    qc = qpe_program(n_qubits, pi_est)\n",
    "    measured = measure_pi(n_qubits, qc, backend, n_shots)\n",
    "    \n",
    "    pi_est_last = second_guess\n",
    "    qc = qpe_program(n_qubits, pi_est_last)\n",
    "    measured_last = measure_pi(n_qubits, qc, backend, n_shots)\n",
    "    for k in range(max_iter):\n",
    "        tmp = pi_est\n",
    "        delta = measured - pi_est - measured_last + pi_est_last\n",
    "        converged = abs(delta) < 1e-16\n",
    "        if converged:\n",
    "            print(\"using \", n_qubits, \" qubits, converged after \", k, \" iterations\")\n",
    "            return pi_est, measured\n",
    "        else:\n",
    "            pi_est = pi_est - (pi_est - pi_est_last) / delta * (measured - pi_est)\n",
    "            measured_last = measured\n",
    "            pi_est_last = tmp\n",
    "            qc = qpe_program(n_qubits, pi_est)\n",
    "            measured = measure_pi(n_qubits, qc, backend, n_shots)\n",
    "    print(\"failed to converge\")\n",
    "    return pi_est, measured"
   ]
  },
  {
   "cell_type": "code",
   "execution_count": 7,
   "metadata": {},
   "outputs": [
    {
     "data": {
      "image/png": "[encoded data removed]",
      "text/plain": [
       "<Figure size 1591.6x385.28 with 1 Axes>"
      ]
     },
     "execution_count": 7,
     "metadata": {},
     "output_type": "execute_result"
    }
   ],
   "source": [
    "#draw the circuit for 4 qubits with a guessed value of pi\n",
    "plot_guess = 3.14\n",
    "qc = qpe_program(4, plot_guess)\n",
    "qc.draw('mpl')"
   ]
  },
  {
   "cell_type": "code",
   "execution_count": 8,
   "metadata": {},
   "outputs": [
    {
     "name": "stdout",
     "output_type": "stream",
     "text": [
      "using  5  qubits, converged after  2  iterations\n",
      "Quantum circuit input:  3.2\n",
      "Quantum circuit output: 3.2\n",
      "\n",
      "using  6  qubits, converged after  2  iterations\n",
      "Quantum circuit input:  3.2\n",
      "Quantum circuit output: 3.2\n",
      "\n",
      "using  7  qubits, converged after  4  iterations\n",
      "Quantum circuit input:  16.0\n",
      "Quantum circuit output: 16.0\n",
      "\n",
      "using  8  qubits, converged after  2  iterations\n",
      "Quantum circuit input:  3.1219512195121952\n",
      "Quantum circuit output: 3.1219512195121952\n",
      "\n",
      "using  9  qubits, converged after  4  iterations\n",
      "Quantum circuit input:  3.1604938271604937\n",
      "Quantum circuit output: 3.1604938271604937\n",
      "\n",
      "using  10  qubits, converged after  12  iterations\n",
      "Quantum circuit input:  3.1411042944785277\n",
      "Quantum circuit output: 3.1411042944785277\n",
      "\n",
      "using  11  qubits, converged after  4  iterations\n",
      "Quantum circuit input:  3.1411042944785277\n",
      "Quantum circuit output: 3.1411042944785277\n",
      "\n",
      "using  12  qubits, converged after  2  iterations\n",
      "Quantum circuit input:  3.1411042944785277\n",
      "Quantum circuit output: 3.1411042944785277\n",
      "\n",
      "using  13  qubits, converged after  6  iterations\n",
      "Quantum circuit input:  3.1411042944785277\n",
      "Quantum circuit output: 3.1411042944785277\n",
      "\n",
      "using  14  qubits, converged after  5  iterations\n",
      "Quantum circuit input:  3.1411042944785277\n",
      "Quantum circuit output: 3.1411042944785277\n",
      "\n",
      "using  15  qubits, converged after  4  iterations\n",
      "Quantum circuit input:  3.1417066155321187\n",
      "Quantum circuit output: 3.1417066155321187\n",
      "\n",
      "using  16  qubits, converged after  4  iterations\n",
      "Quantum circuit input:  3.1417066155321187\n",
      "Quantum circuit output: 3.1417066155321187\n",
      "\n",
      "using  17  qubits, converged after  13  iterations\n",
      "Quantum circuit input:  3.1415560136139207\n",
      "Quantum circuit output: 3.1415560136139207\n",
      "\n",
      "using  18  qubits, converged after  13  iterations\n",
      "Quantum circuit input:  3.1416313127681503\n",
      "Quantum circuit output: 3.1415560136139207\n",
      "\n",
      "using  19  qubits, converged after  12  iterations\n",
      "Quantum circuit input:  3.1415936627398344\n",
      "Quantum circuit output: 3.1415936627398344\n",
      "\n"
     ]
    }
   ],
   "source": [
    "first_guess = 1\n",
    "second_guess = 2\n",
    "n_shots = 100\n",
    "backend = Aer.get_backend('qasm_simulator')\n",
    "max_iter = 200\n",
    "for n_qubits in range(5, 20):\n",
    "    qc_in, qc_out = estimate_pi(n_qubits, first_guess, second_guess, n_shots, backend, max_iter)\n",
    "    print('Quantum circuit input:  '+str(qc_in))\n",
    "    print('Quantum circuit output: '+str(qc_out)+'\\n')\n",
    "    \n",
    "\n",
    "    "
   ]
  }
 ],
 "metadata": {
  "kernelspec": {
   "display_name": "Python 3",
   "language": "python",
   "name": "python3"
  },
  "language_info": {
   "codemirror_mode": {
    "name": "ipython",
    "version": 3
   },
   "file_extension": ".py",
   "mimetype": "text/x-python",
   "name": "python",
   "nbconvert_exporter": "python",
   "pygments_lexer": "ipython3",
   "version": "3.8.2"
  }
 },
 "nbformat": 4,
 "nbformat_minor": 4
}
